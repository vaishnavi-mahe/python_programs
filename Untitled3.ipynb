{
  "nbformat": 4,
  "nbformat_minor": 0,
  "metadata": {
    "colab": {
      "name": "Untitled3.ipynb",
      "provenance": [],
      "collapsed_sections": [],
      "authorship_tag": "ABX9TyNt3x+eAj8Zbn5nC20/wxO1",
      "include_colab_link": true
    },
    "kernelspec": {
      "name": "python3",
      "display_name": "Python 3"
    },
    "language_info": {
      "name": "python"
    }
  },
  "cells": [
    {
      "cell_type": "markdown",
      "metadata": {
        "id": "view-in-github",
        "colab_type": "text"
      },
      "source": [
        "<a href=\"https://colab.research.google.com/github/vaishnavi-mahe/python_programs/blob/main/Untitled3.ipynb\" target=\"_parent\"><img src=\"https://colab.research.google.com/assets/colab-badge.svg\" alt=\"Open In Colab\"/></a>"
      ]
    },
    {
      "cell_type": "code",
      "metadata": {
        "id": "ZlLg-Mh-dtvr"
      },
      "source": [
        "num_1 = int(input(\"Enter 1st number\"))\n",
        "num_2 = int(input(\"Enter 2nd number\"))\n",
        "if num_1<num_2:\n",
        "  min = num_1\n",
        "else:\n",
        "  min = num_2\n",
        "for i in range(1, min+1):\n",
        "  if num_1%i==0 and num_2%i==0:\n",
        "    hcf = i\n",
        "print(hcf)"
      ],
      "execution_count": null,
      "outputs": []
    },
    {
      "cell_type": "code",
      "metadata": {
        "id": "g0bIZFdneg5X"
      },
      "source": [
        "num1 = int(input(\"Enter a number\"))\n",
        "num2 = int(input(\"Enter a number\"))\n",
        "if num1>num2:\n",
        "  max = num1\n",
        "else:\n",
        "  max = num2\n",
        "value = max\n",
        "while max>0:\n",
        "  if max%num1==0 and max%num2==0:\n",
        "    max=max\n",
        "    break\n",
        "  else:\n",
        "    max=max+value\n",
        "print(\"LCM is\",max)"
      ],
      "execution_count": null,
      "outputs": []
    },
    {
      "cell_type": "code",
      "metadata": {
        "id": "gobhDT2zfmPD"
      },
      "source": [
        "def matrix(m,n):\n",
        "  O = []\n",
        "  for i in range(m):\n",
        "    row = []\n",
        "    for j in range(n):\n",
        "      inp = int(input(f\"Enter O{i}{j}\"))\n",
        "      row.append(inp)\n",
        "    O.append(row)\n",
        "  return O\n",
        "def sum(A,B):\n",
        "  output = []\n",
        "  for i in range(len(A)):\n",
        "    row = []\n",
        "    for j in range(len(A[0])):\n",
        "      row.append(A[i][j]+B[i][j])\n",
        "    output.append(row)\n",
        "  return output\n",
        "\n",
        "\n",
        "m = int(input(\"Enter the value of m\\n\")) #Row value\n",
        "n = int(input(\"Enter the value of n\\n\")) #Column value\n",
        "print(\"Enter Matrix A\")\n",
        "A = matrix(m,n)\n",
        "print(A)\n",
        "print(\"Enter Matrix B\")\n",
        "B = matrix(m,n)\n",
        "print(B)\n",
        "\n",
        "print(sum(A,B))\n"
      ],
      "execution_count": null,
      "outputs": []
    }
  ]
}